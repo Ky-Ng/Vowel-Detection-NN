{
 "cells": [
  {
   "cell_type": "code",
   "execution_count": 21,
   "metadata": {},
   "outputs": [],
   "source": [
    "import torch\n",
    "import matplotlib.pyplot as plt\n",
    "import torch.optim as optim\n",
    "import numpy as np"
   ]
  },
  {
   "cell_type": "code",
   "execution_count": 22,
   "metadata": {},
   "outputs": [],
   "source": [
    "import scipy.io"
   ]
  },
  {
   "cell_type": "code",
   "execution_count": 23,
   "metadata": {},
   "outputs": [],
   "source": [
    "plt.close('all')\n",
    "plt.rcParams[\"figure.autolayout\"] = True"
   ]
  },
  {
   "cell_type": "code",
   "execution_count": 24,
   "metadata": {},
   "outputs": [
    {
     "name": "stdout",
     "output_type": "stream",
     "text": [
      "(218, 14)\n"
     ]
    }
   ],
   "source": [
    "# Load in Training Data from Matlab .mat file\n",
    "training_data_with_meta_data = scipy.io.loadmat(\"training_lpc1.mat\")\n",
    "\n",
    "# Note: `training_lpc` is a name we defined in Matlab\n",
    "training_data = training_data_with_meta_data[\"training_lpc\"]\n",
    "print(training_data.shape) "
   ]
  },
  {
   "cell_type": "code",
   "execution_count": 25,
   "metadata": {},
   "outputs": [
    {
     "name": "stdout",
     "output_type": "stream",
     "text": [
      "(218, 10)\n"
     ]
    }
   ],
   "source": [
    "# Load in Training Data from Matlab .mat file\n",
    "ground_truth_with_meta_data = scipy.io.loadmat(\"ground_truth1.mat\")\n",
    "\n",
    "# Note: `training_lpc` is a name we defined in Matlab\n",
    "ground_truth = ground_truth_with_meta_data[\"ground_truth\"]\n",
    "print(ground_truth.shape) "
   ]
  }
 ],
 "metadata": {
  "kernelspec": {
   "display_name": "Python 3",
   "language": "python",
   "name": "python3"
  },
  "language_info": {
   "codemirror_mode": {
    "name": "ipython",
    "version": 3
   },
   "file_extension": ".py",
   "mimetype": "text/x-python",
   "name": "python",
   "nbconvert_exporter": "python",
   "pygments_lexer": "ipython3",
   "version": "3.9.6"
  }
 },
 "nbformat": 4,
 "nbformat_minor": 2
}
