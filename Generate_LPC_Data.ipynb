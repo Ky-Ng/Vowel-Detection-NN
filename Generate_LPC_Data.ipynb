{
 "cells": [
  {
   "cell_type": "markdown",
   "metadata": {},
   "source": [
    "# Generate LPCs From Audio Files"
   ]
  },
  {
   "cell_type": "code",
   "execution_count": 27,
   "metadata": {},
   "outputs": [],
   "source": [
    "import librosa\n",
    "import numpy as np"
   ]
  },
  {
   "cell_type": "markdown",
   "metadata": {},
   "source": [
    "## Load In Audio Files into Memory"
   ]
  },
  {
   "cell_type": "code",
   "execution_count": 28,
   "metadata": {},
   "outputs": [
    {
     "name": "stdout",
     "output_type": "stream",
     "text": [
      "3\n"
     ]
    }
   ],
   "source": [
    "# Sample Rate is 44.1 kHz\n",
    "RECORDED_SAMPLE_RATE = 44100\n",
    "\n",
    "# Desired Sample Rate for LPC Processing is 14 kHz\n",
    "DESIRED_SAMPLE_RATE = 14000\n",
    "\n",
    "DOWN_SAMPLE_COEFFICIENT = RECORDED_SAMPLE_RATE // DESIRED_SAMPLE_RATE\n",
    "\n",
    "print(DOWN_SAMPLE_COEFFICIENT)"
   ]
  },
  {
   "cell_type": "code",
   "execution_count": 46,
   "metadata": {},
   "outputs": [
    {
     "name": "stdout",
     "output_type": "stream",
     "text": [
      "[0.         0.         0.         0.00015259 0.00109863 0.0038147\n",
      " 0.00735474 0.00854492 0.00778198 0.00823975]\n",
      "\n",
      "[-0.00010162  0.00057011  0.00683768  0.00844336  0.00733297  0.00714927\n",
      "  0.00704003  0.00769634  0.0079391   0.00793288]\n"
     ]
    }
   ],
   "source": [
    "audio_file, original_sr= librosa.load(\n",
    "    \"./wav_data/vowels_Maria/aa_maria.wav\",\n",
    "    sr=RECORDED_SAMPLE_RATE)\n",
    "\n",
    "print(audio_file[0:10])\n",
    "# Add back in high frequencies using the heuristic that \n",
    "# sampled audio points may \n",
    "\n",
    "\n",
    "down_sampled_audio_file = librosa.resample(\n",
    "    audio_file,\n",
    "    orig_sr=original_sr,\n",
    "    target_sr=DESIRED_SAMPLE_RATE)\n",
    "print()\n",
    "print(down_sampled_audio_file[0:10])"
   ]
  },
  {
   "cell_type": "code",
   "execution_count": 36,
   "metadata": {},
   "outputs": [
    {
     "name": "stdout",
     "output_type": "stream",
     "text": [
      "[-0.06699143 -0.12399124 -0.11376429 ... -0.00111862 -0.00384832\n",
      " -0.00448074]\n",
      "4203\n"
     ]
    }
   ],
   "source": [
    "print(audio_file)\n",
    "print(len(audio_file))\n",
    "# print(len(down_sampled_audio_file))"
   ]
  },
  {
   "cell_type": "code",
   "execution_count": 31,
   "metadata": {},
   "outputs": [],
   "source": [
    "lpc_vals = librosa.lpc(audio_file, order=14)"
   ]
  },
  {
   "cell_type": "code",
   "execution_count": 32,
   "metadata": {},
   "outputs": [
    {
     "name": "stdout",
     "output_type": "stream",
     "text": [
      "[ 1.         -2.0502448   1.6862448  -1.8335428   2.2697132  -1.8342547\n",
      "  1.2652496  -0.8695163   0.794616   -0.6137525   0.40180787 -0.40603107\n",
      "  0.19580787  0.042658   -0.04086584]\n"
     ]
    },
    {
     "data": {
      "text/plain": [
       "15"
      ]
     },
     "execution_count": 32,
     "metadata": {},
     "output_type": "execute_result"
    }
   ],
   "source": [
    "print(lpc_vals)\n",
    "len(lpc_vals)"
   ]
  }
 ],
 "metadata": {
  "kernelspec": {
   "display_name": ".venv",
   "language": "python",
   "name": "python3"
  },
  "language_info": {
   "codemirror_mode": {
    "name": "ipython",
    "version": 3
   },
   "file_extension": ".py",
   "mimetype": "text/x-python",
   "name": "python",
   "nbconvert_exporter": "python",
   "pygments_lexer": "ipython3",
   "version": "3.11.5"
  }
 },
 "nbformat": 4,
 "nbformat_minor": 2
}
