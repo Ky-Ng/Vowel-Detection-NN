{
 "cells": [
  {
   "cell_type": "markdown",
   "metadata": {},
   "source": [
    "# Generate LPCs From Audio Files"
   ]
  },
  {
   "cell_type": "code",
   "execution_count": 15,
   "metadata": {},
   "outputs": [],
   "source": [
    "import librosa\n",
    "import numpy as np"
   ]
  },
  {
   "cell_type": "markdown",
   "metadata": {},
   "source": [
    "## Declare Audio Processing Constants"
   ]
  },
  {
   "cell_type": "code",
   "execution_count": 16,
   "metadata": {},
   "outputs": [],
   "source": [
    "# Number of LPC Coefficients to Model \n",
    "NUM_LPC = 14\n",
    "# Sample Rate is 44.1 kHz\n",
    "RECORDED_SAMPLE_RATE = 44100\n",
    "\n",
    "# Desired Sample Rate for LPC Processing is 14 kHz\n",
    "DESIRED_SAMPLE_RATE = NUM_LPC * 1000"
   ]
  },
  {
   "cell_type": "markdown",
   "metadata": {},
   "source": [
    "## Helper Functions"
   ]
  },
  {
   "cell_type": "markdown",
   "metadata": {},
   "source": [
    "### Load Audio and Preprocess Audio\n",
    "1. Downsampling 44kHz to 14kHz (1kHz per LPC Value)\n",
    "2. Use a High Frequency Heuristic"
   ]
  },
  {
   "cell_type": "code",
   "execution_count": 17,
   "metadata": {},
   "outputs": [],
   "source": [
    "# ./wav_data/vowels_Maria/aa_maria.wav\n",
    "def process_audio(path_to_audio_file: str, HIGH_FREQUENCY_HEURISTIC=True) -> np.ndarray:\n",
    "    \"\"\"\n",
    "    Processes an audio file by loading it into a numpy array\n",
    "    and changing the sample rate to NUM_LPC * 1000\n",
    "\n",
    "    Additionally, there is a heuristic for adding back frequencies\n",
    "    using a simple `diff` of consecutive elements which can\n",
    "    be disabled using the HIGH_FREQUENCY_HEURISTIC flag.\n",
    "\n",
    "    Parameters\n",
    "    ----------\n",
    "    path_to_audio_file : str\n",
    "        Path to the audio input file\n",
    "\n",
    "    HIGH_FREQUENCY_HEURISTIC : bool\n",
    "        Whether or not to use transform the audio file into a difference\n",
    "        of consecutive samples. a[i] = a[i+1] - a[i] \n",
    "\n",
    "    Returns\n",
    "    --------\n",
    "    audio_array : np.ndarray\n",
    "        processed audio file as a numpy array\n",
    "    \"\"\"\n",
    "\n",
    "    # Step 1) Load in Raw Audio\n",
    "    audio_file, _ = librosa.load(\n",
    "        path=path_to_audio_file,\n",
    "        sr=RECORDED_SAMPLE_RATE\n",
    "    )\n",
    "\n",
    "    # Step 2) Change sample rate\n",
    "    down_sampled_audio_file = librosa.resample(\n",
    "        audio_file,\n",
    "        orig_sr=RECORDED_SAMPLE_RATE,\n",
    "        target_sr=DESIRED_SAMPLE_RATE\n",
    "    )\n",
    "\n",
    "    # Step 3) Rentroduce high frequencies if needed\n",
    "    if (HIGH_FREQUENCY_HEURISTIC):\n",
    "        down_sampled_audio_file = np.diff(down_sampled_audio_file)\n",
    "\n",
    "    return down_sampled_audio_file"
   ]
  },
  {
   "cell_type": "markdown",
   "metadata": {},
   "source": [
    "## Cohen's D\n",
    "- Calculate the effect size between 2 given LPC Coefficients\n",
    "\n",
    "#### Cohen's D Intuition\n",
    "- Cohen's D = measure of the `average difference` between 2 datasets and how prominent that variation is\n",
    "- The lower the `normalized_variance` the more impactful the `mean_difference` is\n",
    "\n",
    "#### Cohen's D Calculation\n",
    "- Cohen's D = `mean_difference` / `normalized_variance`\n",
    "- let `mean_difference` = avg(`dataset1's LPC Coefficient X`) - avg(`dataset2's LPC Coefficient X`)\n",
    "- let `normalized_variance` = sqrt(`variance`) / 2\n",
    "- let `variance` = std(`dataset1's LPC Coefficient X`)^2 - std(`dataset2's LPC Coefficient X`)^2\n",
    "\n",
    "#### Cohen's D Ranges\n",
    "\n",
    "| Effect Size | `Cohen's D` Value |\n",
    "| ----------- | ----------------- |\n",
    "| Small       | <= 0.2            |\n",
    "| Medium      | <= 0.5            |\n",
    "| Large       | >= 0.8            |"
   ]
  },
  {
   "cell_type": "code",
   "execution_count": 36,
   "metadata": {},
   "outputs": [
    {
     "name": "stdout",
     "output_type": "stream",
     "text": [
      "15.205262246998569 Large\n"
     ]
    }
   ],
   "source": [
    "def calculate_cohens_d(lpc_x_dataset1: np.array, lpc_x_dataset2: np.array) -> tuple[np.float32, str]:\n",
    "    \"\"\"\n",
    "    Compare the effect size of dataset1's and dataset2's LPC_X where\n",
    "    X is an arbitrary LPC Coefficient\n",
    "\n",
    "    Parameters\n",
    "    ----------\n",
    "    lpc_x_dataset1 : np.array\n",
    "        The Xth LPC coefficients for every sample in dataset 1\n",
    "            ex: LPC 12 for all `front vowels`\n",
    "    \n",
    "    lpc_x_dataset2 : np.array\n",
    "        The Xth LPC coefficients for every sample in dataset 2\n",
    "            ex: LPC 12 for all `front vowels`\n",
    "    \n",
    "    Note: Both datasets should be have the same LPC index\n",
    "\n",
    "    Returns\n",
    "    --------\n",
    "    cohens_d : np.float64\n",
    "        Cohen's D or Effect Size of LPC Index X with respect to dataset 1 and dataset 2\n",
    "            ex: How likely the difference between LPC X in dataset 1 and dataset 2 \n",
    "                is to be noticeable in an experiment/real life scenario\n",
    "\n",
    "    label: str\n",
    "        Returns whether the effect size is Small, Medium, or Large\n",
    "    \"\"\"\n",
    "\n",
    "    assert len(lpc_x_dataset1) > 1, \"lpc_x_dataset1 must have more than 1 number\" \n",
    "    assert len(lpc_x_dataset1) > 1, \"lpc_x_dataset2 must have more than 1 number\" \n",
    "\n",
    "    # Step 1) Numerator = Mean Difference\n",
    "    mean_difference = np.mean(lpc_x_dataset1) - np.mean(lpc_x_dataset2)\n",
    "    \n",
    "    # Step 2) Get the total variance of both datasets\n",
    "    total_variance = np.std(lpc_x_dataset1)**2 + np.std(lpc_x_dataset2)**2\n",
    "\n",
    "    # Step 3) Normalize the Variance\n",
    "    normalized_variance = np.sqrt(total_variance) / 2\n",
    "\n",
    "    # Step 4) Calculate effect size\n",
    "    cohens_d = mean_difference / normalized_variance\n",
    "\n",
    "    # Step 5) Get the label according to Cohen's D\n",
    "    label = \"\"\n",
    "    if(cohens_d <= 2.0):\n",
    "        label = \"Small\"\n",
    "    elif(cohens_d <= 5.0):\n",
    "        label = \"Medium\"\n",
    "    else:\n",
    "        label = \"Large\"\n",
    "\n",
    "    return cohens_d, label\n",
    "\n",
    "cohens_d, label = calculate_cohens_d([10,12],[2,3])\n",
    "print(cohens_d, label)"
   ]
  },
  {
   "cell_type": "code",
   "execution_count": 19,
   "metadata": {},
   "outputs": [],
   "source": [
    "lpc_vals = librosa.lpc(process_audio(\"./wav_data/vowels_Maria/aa_maria.wav\"), order=NUM_LPC)"
   ]
  },
  {
   "cell_type": "code",
   "execution_count": 20,
   "metadata": {},
   "outputs": [
    {
     "name": "stdout",
     "output_type": "stream",
     "text": [
      "[ 1.         -1.2961028   1.0199971  -1.090959    1.2519653  -1.1698215\n",
      "  1.392889   -1.2056091   1.2673672  -1.1874472   0.77811205 -0.42215684\n",
      "  0.37347627 -0.25114942  0.15072984]\n"
     ]
    },
    {
     "data": {
      "text/plain": [
       "15"
      ]
     },
     "execution_count": 20,
     "metadata": {},
     "output_type": "execute_result"
    }
   ],
   "source": [
    "print(lpc_vals)\n",
    "len(lpc_vals)"
   ]
  }
 ],
 "metadata": {
  "kernelspec": {
   "display_name": ".venv",
   "language": "python",
   "name": "python3"
  },
  "language_info": {
   "codemirror_mode": {
    "name": "ipython",
    "version": 3
   },
   "file_extension": ".py",
   "mimetype": "text/x-python",
   "name": "python",
   "nbconvert_exporter": "python",
   "pygments_lexer": "ipython3",
   "version": "3.11.5"
  }
 },
 "nbformat": 4,
 "nbformat_minor": 2
}
