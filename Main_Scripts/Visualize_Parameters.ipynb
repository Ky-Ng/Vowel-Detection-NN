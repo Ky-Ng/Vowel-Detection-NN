{
 "cells": [
  {
   "cell_type": "markdown",
   "metadata": {},
   "source": [
    "## Parameter Visualization\n",
    "- Plot each vowel and the parameterization (`LPC`/`MFCC`)\n",
    "- See whether or not there exists a pattern for frontness and height to understand phonetic grounding of data"
   ]
  },
  {
   "cell_type": "code",
   "execution_count": 17,
   "metadata": {},
   "outputs": [],
   "source": [
    "import matplotlib.pyplot as plt \n",
    "import scipy.io\n",
    "import numpy as np"
   ]
  },
  {
   "cell_type": "markdown",
   "metadata": {},
   "source": [
    "### Step 1) Import Data\n",
    "- Deserialize the Matlab `.mat` files and import them as numpy arrays"
   ]
  },
  {
   "cell_type": "code",
   "execution_count": 18,
   "metadata": {},
   "outputs": [],
   "source": [
    "# Parameterizations are stored as Matlab `.mat` files\n",
    "\n",
    "# Uncomment for which parameterization to use\n",
    "# PARAMETERIZATION_MATRIX_PATH = \"../Matlab/data/LPC_10_vowels_236_samples.mat\"\n",
    "PARAMETERIZATION_MATRIX_PATH = \"../Matlab/data/MFCC_10_vowels_236_samples.mat\"\n",
    "\n",
    "# Specified as the name of the matrix in the matlab processing `save` function\n",
    "COEFFICIENTS_KEY = \"wav_parameterization\"\n",
    "LABEL_KEY = \"one_hot_encoding_labels\"\n",
    "\n",
    "NUM_COEFFICIENTS = 14\n",
    "VOWEL_LIST = [\"iy\", \"ih\", \"eh\", \"ae\", \"ey\", \"uw\", \"uh\", \"ow\", \"ao\", \"aa\"]"
   ]
  },
  {
   "cell_type": "code",
   "execution_count": 19,
   "metadata": {},
   "outputs": [],
   "source": [
    "# Import the coefficients as an n by NUM_COEFFICINETS matrix where n = number of samples\n",
    "deserialized_matlab_file = scipy.io.loadmat(PARAMETERIZATION_MATRIX_PATH)\n",
    "\n",
    "coefficient_matrix = deserialized_matlab_file[COEFFICIENTS_KEY]\n",
    "coefficient_matrix = np.array(coefficient_matrix).reshape(-1, NUM_COEFFICIENTS)\n",
    "\n",
    "labels_matrix = deserialized_matlab_file[LABEL_KEY]\n",
    "labels_matrix = np.array(labels_matrix).reshape(-1, len(VOWEL_LIST))"
   ]
  },
  {
   "cell_type": "code",
   "execution_count": 20,
   "metadata": {},
   "outputs": [
    {
     "data": {
      "text/plain": [
       "(236, 14)"
      ]
     },
     "execution_count": 20,
     "metadata": {},
     "output_type": "execute_result"
    }
   ],
   "source": [
    "# (Num Samples, NUM_COEFFICIENTS)\n",
    "coefficient_matrix.shape"
   ]
  },
  {
   "cell_type": "code",
   "execution_count": 21,
   "metadata": {},
   "outputs": [
    {
     "data": {
      "text/plain": [
       "(236, 10)"
      ]
     },
     "execution_count": 21,
     "metadata": {},
     "output_type": "execute_result"
    }
   ],
   "source": [
    "# (Num Samples, Number of Vowels)\n",
    "labels_matrix.shape"
   ]
  },
  {
   "cell_type": "markdown",
   "metadata": {},
   "source": [
    "### Step 2) Plot Data\n",
    "- Plot each vowel's coefficients from [0: Number of One Hot Encodings]`"
   ]
  },
  {
   "cell_type": "code",
   "execution_count": null,
   "metadata": {},
   "outputs": [],
   "source": []
  }
 ],
 "metadata": {
  "kernelspec": {
   "display_name": ".transformers_venv",
   "language": "python",
   "name": "python3"
  },
  "language_info": {
   "codemirror_mode": {
    "name": "ipython",
    "version": 3
   },
   "file_extension": ".py",
   "mimetype": "text/x-python",
   "name": "python",
   "nbconvert_exporter": "python",
   "pygments_lexer": "ipython3",
   "version": "3.11.5"
  }
 },
 "nbformat": 4,
 "nbformat_minor": 2
}
